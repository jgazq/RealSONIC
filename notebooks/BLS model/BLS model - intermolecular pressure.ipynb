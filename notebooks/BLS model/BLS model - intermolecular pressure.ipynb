{
 "cells": [
  {
   "cell_type": "markdown",
   "metadata": {},
   "source": [
    "# Bilayer Sonophore model: pre-computation of intermolecular pressure\n",
    "\n",
    "Profiled simulations of the mechanical model in isolation reveal that the spatial integration of intermolecular pressure $P_M$ is by far the longest internal computation at each iteration. Hence, we seek to decrease its computational cost.\n",
    "\n",
    "Luckily, despite its complexity, this integrated pressure term depends solely on leaflet deflection and the nature of its profile is similar to that of its local counterpart.\n",
    "\n",
    "Therefore, a precomputing step is defined wherein a Lennard-Jones expression of the form:\n",
    "\n",
    "$\\tilde{P_M}(Z)= \\tilde{A_r} \\big[ \\big(\\frac{\\tilde{\\Delta^*}}{2 \\cdot Z + \\Delta(Q_m)}\\big)^\\tilde{x} - \\big(\\frac{\\tilde{\\Delta^*}}{2 \\cdot Z + \\Delta(Q_m)}\\big)^\\tilde{y} \\big]$\n",
    "\n",
    "is fitted to the integrated profile and then used as a new predictor of intermolecular pressure during the iterative numerical resolution."
   ]
  },
  {
   "cell_type": "markdown",
   "metadata": {},
   "source": [
    "### Imports"
   ]
  },
  {
   "cell_type": "code",
   "execution_count": 1,
   "metadata": {},
   "outputs": [],
   "source": [
    "import logging\n",
    "import time\n",
    "import numpy as np\n",
    "import matplotlib.pyplot as plt\n",
    "\n",
    "from PySONIC.utils import logger, rmse, rsquared\n",
    "from PySONIC.neurons import getPointNeuron\n",
    "from PySONIC.core import BilayerSonophore, PmCompMethod, AcousticDrive\n",
    "from PySONIC.constants import *\n",
    "\n",
    "# Set logging level\n",
    "logger.setLevel(logging.INFO)"
   ]
  },
  {
   "cell_type": "markdown",
   "metadata": {},
   "source": [
    "### Functions"
   ]
  },
  {
   "cell_type": "code",
   "execution_count": 10,
   "metadata": {},
   "outputs": [],
   "source": [
    "def plotPmavg(bls, Z, fs=15):\n",
    "    fig, ax = plt.subplots(figsize=(5, 3))\n",
    "    for skey in ['right', 'top']:\n",
    "        ax.spines[skey].set_visible(False)\n",
    "    ax.set_xlabel('Z (nm)', fontsize=fs)\n",
    "    ax.set_ylabel('Pressure (kPa)', fontsize=fs)\n",
    "    ax.set_xticks([0, bls.a * 1e9])\n",
    "    ax.set_xticklabels(['0', 'a'])\n",
    "    ax.set_yticks([-10, 0, 40])\n",
    "    ax.set_ylim([-10, 50])\n",
    "    for item in ax.get_xticklabels() + ax.get_yticklabels():\n",
    "        item.set_fontsize(fs)\n",
    "    ax.plot(Z * 1e9, bls.v_PMavg(Z, bls.v_curvrad(Z), bls.surface(Z)) * 1e-3, label='$P_m$')\n",
    "    ax.plot(Z * 1e9, bls.PMavgpred(Z) * 1e-3, label='$P_{m,approx}$')\n",
    "    ax.axhline(y=0, color='k')\n",
    "    ax.legend(fontsize=fs, frameon=False)\n",
    "    fig.tight_layout()\n",
    "\n",
    "def plotZprofiles(bls, US_source, Q, fs=15):\n",
    "    # Run simulations with integrated and predicted intermolecular pressure\n",
    "    t0 = time.perf_counter()\n",
    "    data1, _ = bls.simulate(US_source, Qm, Pm_comp_method=PmCompMethod.direct)\n",
    "    tcomp_direct = time.perf_counter() - t0\n",
    "    print(f'computation time with direct Pm: {tcomp_direct} s')\n",
    "    Z1 = data1['Z'].values[-NPC_DENSE:] * 1e9  # nm\n",
    "    \n",
    "    t0 = time.perf_counter()\n",
    "    data2, _ = bls.simulate(US_source, Qm, Pm_comp_method=PmCompMethod.predict)\n",
    "    tcomp_predict = time.perf_counter() - t0\n",
    "    print(f'computation time with predicted Pm: {tcomp_predict} s')\n",
    "    Z2 = data2['Z'].values[-NPC_DENSE:] * 1e9  # nm\n",
    "   \n",
    "    tcomp_ratio = tcomp_direct / tcomp_predict\n",
    "    \n",
    "    # Plot figure    \n",
    "    t = np.linspace(0, US_source.periodicity, US_source.nPerCycle) * 1e6  # us\n",
    "    fig, ax = plt.subplots(figsize=(5, 3))\n",
    "    for skey in ['right', 'top']:\n",
    "        ax.spines[skey].set_visible(False)\n",
    "    ax.set_xlabel('time (us)', fontsize=fs)\n",
    "    ax.set_ylabel('Deflection (nm)', fontsize=fs)\n",
    "    ax.set_xticks([t[0], t[-1]])\n",
    "    for item in ax.get_xticklabels() + ax.get_yticklabels():\n",
    "        item.set_fontsize(fs)\n",
    "    \n",
    "    ax.plot(t, Z1, label='$P_m$')\n",
    "    ax.plot(t, Z2, label='$P_{m,approx}$')\n",
    "    ax.axhline(y=0, color='k')\n",
    "    ax.legend(fontsize=fs, frameon=False)\n",
    "    fig.tight_layout()\n",
    "    \n",
    "    return fig, Z1, Z2, tcomp_ratio"
   ]
  },
  {
   "cell_type": "markdown",
   "metadata": {},
   "source": [
    "### Parameters"
   ]
  },
  {
   "cell_type": "code",
   "execution_count": 11,
   "metadata": {},
   "outputs": [],
   "source": [
    "pneuron = getPointNeuron('RS')\n",
    "bls = BilayerSonophore(32e-9, pneuron.Cm0, pneuron.Qm0)\n",
    "US_source = AcousticDrive(500e3, 100e3)\n",
    "Qm = pneuron.Qm0"
   ]
  },
  {
   "cell_type": "markdown",
   "metadata": {},
   "source": [
    "### Profiles comparison over deflection range "
   ]
  },
  {
   "cell_type": "code",
   "execution_count": 12,
   "metadata": {},
   "outputs": [
    {
     "data": {
      "image/png": "[encoded data removed]",
      "text/plain": [
       "<Figure size 360x216 with 1 Axes>"
      ]
     },
     "metadata": {
      "needs_background": "light"
     },
     "output_type": "display_data"
    }
   ],
   "source": [
    "Z = np.linspace(-0.4 * bls.Delta_, bls.a, 1000)\n",
    "fig = plotPmavg(bls, Z)"
   ]
  },
  {
   "cell_type": "markdown",
   "metadata": {},
   "source": [
    "### Error quantification over a typical acoustic cycle"
   ]
  },
  {
   "cell_type": "code",
   "execution_count": 13,
   "metadata": {},
   "outputs": [
    {
     "name": "stderr",
     "output_type": "stream",
     "text": [
      " 30/01/2020 17:15:24: BilayerSonophore(32.0 nm): simulation @ f = 500.00 kHz, A = 100.00 kPa, Q = -71.90 nC/cm2\n"
     ]
    },
    {
     "name": "stdout",
     "output_type": "stream",
     "text": [
      "computation time with direct Pm: 12.703268000000008 s\n"
     ]
    },
    {
     "name": "stderr",
     "output_type": "stream",
     "text": [
      " 30/01/2020 17:15:36: BilayerSonophore(32.0 nm): simulation @ f = 500.00 kHz, A = 100.00 kPa, Q = -71.90 nC/cm2\n"
     ]
    },
    {
     "name": "stdout",
     "output_type": "stream",
     "text": [
      "computation time with predicted Pm: 1.3662477000000024 s\n",
      "Z-error: R2 = 0.9996, RMSE = 0.0454 nm (0.8212% dZ)\n",
      "computational boost: 9.3-fold\n"
     ]
    },
    {
     "data": {
      "image/png": "[encoded data removed]",
      "text/plain": [
       "<Figure size 360x216 with 1 Axes>"
      ]
     },
     "metadata": {
      "needs_background": "light"
     },
     "output_type": "display_data"
    }
   ],
   "source": [
    "fig, Z1, Z2, tcomp_ratio = plotZprofiles(bls, US_source, Qm)\n",
    "error_Z = rmse(Z1, Z2)\n",
    "r2_Z = rsquared(Z1, Z2)\n",
    "err_pct = error_Z / (Z1.max() - Z1.min()) * 1e2\n",
    "print(f'Z-error: R2 = {r2_Z:.4f}, RMSE = {error_Z:.4f} nm ({err_pct:.4f}% dZ)')\n",
    "print(f'computational boost: {tcomp_ratio:.1f}-fold')"
   ]
  },
  {
   "cell_type": "markdown",
   "metadata": {},
   "source": [
    "As we can see, this simplification allows to reduce computation times by more than one order of magnitude, without significantly affecting the resulting deflection profiles."
   ]
  }
 ],
 "metadata": {
  "kernelspec": {
   "display_name": "Python 3",
   "language": "python",
   "name": "python3"
  },
  "language_info": {
   "codemirror_mode": {
    "name": "ipython",
    "version": 3
   },
   "file_extension": ".py",
   "mimetype": "text/x-python",
   "name": "python",
   "nbconvert_exporter": "python",
   "pygments_lexer": "ipython3",
   "version": "3.7.3"
  }
 },
 "nbformat": 4,
 "nbformat_minor": 4
}
